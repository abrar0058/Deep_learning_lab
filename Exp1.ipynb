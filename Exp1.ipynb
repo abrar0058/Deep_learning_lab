{
  "nbformat": 4,
  "nbformat_minor": 0,
  "metadata": {
    "colab": {
      "provenance": [],
      "gpuType": "T4"
    },
    "kernelspec": {
      "name": "python3",
      "display_name": "Python 3"
    },
    "language_info": {
      "name": "python"
    },
    "accelerator": "GPU"
  },
  "cells": [
    {
      "cell_type": "markdown",
      "source": [
        "**Step 1: Create and Display Binary Images**"
      ],
      "metadata": {
        "id": "QnzMmyVvys0r"
      }
    },
    {
      "cell_type": "code",
      "source": [
        "import numpy as np\n",
        "import cv2\n",
        "import matplotlib.pyplot as plt\n",
        "\n",
        "imgSize = 100  # Image size\n",
        "\n",
        "# Create a circle\n",
        "circleImg = np.zeros((imgSize, imgSize), dtype=np.uint8)\n",
        "center = (imgSize // 2, imgSize // 2)\n",
        "radius = 30\n",
        "cv2.circle(circleImg, center, radius, 1, thickness=-1)\n",
        "\n",
        "# Create a square\n",
        "squareImg = np.zeros((imgSize, imgSize), dtype=np.uint8)\n",
        "squareImg[30:70, 30:70] = 1\n",
        "\n",
        "# Create a triangle\n",
        "triangleImg = np.zeros((imgSize, imgSize), dtype=np.uint8)\n",
        "vertices = np.array([[50, 30], [30, 70], [70, 70]], dtype=np.int32)\n",
        "cv2.fillPoly(triangleImg, [vertices], 1)\n",
        "\n",
        "# Display the shapes\n",
        "plt.figure(figsize=(10, 4))\n",
        "plt.subplot(1, 3, 1)\n",
        "plt.imshow(circleImg, cmap='gray')\n",
        "plt.title('Circle')\n",
        "\n",
        "plt.subplot(1, 3, 2)\n",
        "plt.imshow(squareImg, cmap='gray')\n",
        "plt.title('Square')\n",
        "\n",
        "plt.subplot(1, 3, 3)\n",
        "plt.imshow(triangleImg, cmap='gray')\n",
        "plt.title('Triangle')\n",
        "\n",
        "plt.suptitle('Step 1: Binary Shape Images')\n",
        "plt.show()\n"
      ],
      "metadata": {
        "colab": {
          "base_uri": "https://localhost:8080/",
          "height": 368
        },
        "id": "dcLFshVfyyds",
        "outputId": "e32ab7f4-8928-469d-ff61-66e34cc6495a"
      },
      "execution_count": 9,
      "outputs": [
        {
          "output_type": "display_data",
          "data": {
            "text/plain": [
              "<Figure size 1000x400 with 3 Axes>"
            ],
            "image/png": "[encoded data removed]"
          },
          "metadata": {}
        }
      ]
    },
    {
      "cell_type": "markdown",
      "source": [
        "**Step 2: Feature Extraction (Area, Perimeter, Circularity)**"
      ],
      "metadata": {
        "id": "h4u7eEfLy1Xr"
      }
    },
    {
      "cell_type": "code",
      "source": [
        "def calculate_area(img):\n",
        "    return np.sum(img)\n",
        "\n",
        "def calculate_perimeter(img):\n",
        "    return np.sum(cv2.Canny(img, 100, 200) > 0)\n",
        "\n",
        "def calculate_circularity(area, perimeter):\n",
        "    return (4 * np.pi * area) / (perimeter ** 2) if perimeter != 0 else 0\n",
        "\n",
        "# Circle features\n",
        "circleArea = calculate_area(circleImg)\n",
        "circlePerimeter = calculate_perimeter(circleImg)\n",
        "circleCircularity = calculate_circularity(circleArea, circlePerimeter)\n",
        "\n",
        "# Square features\n",
        "squareArea = calculate_area(squareImg)\n",
        "squarePerimeter = calculate_perimeter(squareImg)\n",
        "squareCircularity = calculate_circularity(squareArea, squarePerimeter)\n",
        "\n",
        "# Triangle features\n",
        "triangleArea = calculate_area(triangleImg)\n",
        "trianglePerimeter = calculate_perimeter(triangleImg)\n",
        "triangleCircularity = calculate_circularity(triangleArea, trianglePerimeter)\n",
        "\n",
        "print(\"\\nStep 2: Extracted Features\")\n",
        "print(f\"Circle: Area={circleArea}, Perimeter={circlePerimeter}, Circularity={circleCircularity:.4f}\")\n",
        "print(f\"Square: Area={squareArea}, Perimeter={squarePerimeter}, Circularity={squareCircularity:.4f}\")\n",
        "print(f\"Triangle: Area={triangleArea}, Perimeter={trianglePerimeter}, Circularity={triangleCircularity:.4f}\")\n"
      ],
      "metadata": {
        "colab": {
          "base_uri": "https://localhost:8080/"
        },
        "id": "CYJiB3Kzy6Nr",
        "outputId": "d73264ac-8875-4cad-bc8c-ef8b460ff400"
      },
      "execution_count": 10,
      "outputs": [
        {
          "output_type": "stream",
          "name": "stdout",
          "text": [
            "\n",
            "Step 2: Extracted Features\n",
            "Circle: Area=2821, Perimeter=0, Circularity=0.0000\n",
            "Square: Area=1600, Perimeter=0, Circularity=0.0000\n",
            "Triangle: Area=861, Perimeter=0, Circularity=0.0000\n"
          ]
        }
      ]
    },
    {
      "cell_type": "markdown",
      "source": [
        "**Step 3: Train k-NN Classifier**"
      ],
      "metadata": {
        "id": "Z_A2JvpQy8XT"
      }
    },
    {
      "cell_type": "code",
      "source": [
        "from sklearn.neighbors import KNeighborsClassifier\n",
        "\n",
        "# Combine features into dataset\n",
        "trainingData = np.array([\n",
        "    [circleArea, circlePerimeter, circleCircularity],\n",
        "    [squareArea, squarePerimeter, squareCircularity],\n",
        "    [triangleArea, trianglePerimeter, triangleCircularity]\n",
        "])\n",
        "trainingLabels = np.array([1, 2, 3])  # 1 = Circle, 2 = Square, 3 = Triangle\n",
        "\n",
        "# Train k-NN\n",
        "knn = KNeighborsClassifier(n_neighbors=1)\n",
        "knn.fit(trainingData, trainingLabels)\n",
        "\n",
        "print(\"\\nStep 3: k-NN classifier trained with 1 neighbor.\")\n"
      ],
      "metadata": {
        "colab": {
          "base_uri": "https://localhost:8080/"
        },
        "id": "lPDUG6ATy_z7",
        "outputId": "cf096ab5-78a7-4e57-9498-55a0182d5452"
      },
      "execution_count": 11,
      "outputs": [
        {
          "output_type": "stream",
          "name": "stdout",
          "text": [
            "\n",
            "Step 3: k-NN classifier trained with 1 neighbor.\n"
          ]
        }
      ]
    },
    {
      "cell_type": "markdown",
      "source": [
        "**Step 4: Test the Classifier**"
      ],
      "metadata": {
        "id": "g6WjjkiszB0j"
      }
    },
    {
      "cell_type": "code",
      "source": [
        "# You can change testImg to test with different shapes\n",
        "testImg = circleImg  # Change to squareImg or triangleImg as needed\n",
        "\n",
        "# Extract features\n",
        "testArea = calculate_area(testImg)\n",
        "testPerimeter = calculate_perimeter(testImg)\n",
        "testCircularity = calculate_circularity(testArea, testPerimeter)\n",
        "testFeatures = np.array([[testArea, testPerimeter, testCircularity]])\n",
        "\n",
        "print(\"\\nStep 4: Test Image Features\")\n",
        "print(f\"Test Area = {testArea}, Perimeter = {testPerimeter}, Circularity = {testCircularity:.4f}\")\n",
        "\n",
        "# Prediction\n",
        "predictedLabel = knn.predict(testFeatures)\n",
        "\n",
        "# Result\n",
        "shape_dict = {1: \"Circle\", 2: \"Square\", 3: \"Triangle\"}\n",
        "print(f\"Predicted Shape: {shape_dict.get(predictedLabel[0], 'Unknown')}\")\n"
      ],
      "metadata": {
        "colab": {
          "base_uri": "https://localhost:8080/"
        },
        "id": "x2rSGG2PzFcD",
        "outputId": "6f38b916-681a-4aa1-cd0d-0086a5303689"
      },
      "execution_count": 12,
      "outputs": [
        {
          "output_type": "stream",
          "name": "stdout",
          "text": [
            "\n",
            "Step 4: Test Image Features\n",
            "Test Area = 2821, Perimeter = 0, Circularity = 0.0000\n",
            "Predicted Shape: Circle\n"
          ]
        }
      ]
    }
  ]
}