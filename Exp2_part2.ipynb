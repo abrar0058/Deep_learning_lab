{
  "nbformat": 4,
  "nbformat_minor": 0,
  "metadata": {
    "colab": {
      "provenance": []
    },
    "kernelspec": {
      "name": "python3",
      "display_name": "Python 3"
    },
    "language_info": {
      "name": "python"
    }
  },
  "cells": [
    {
      "cell_type": "markdown",
      "source": [
        "Import Libraries and Initialize Variables"
      ],
      "metadata": {
        "id": "opQN4rdsjPSP"
      }
    },
    {
      "cell_type": "code",
      "source": [
        "import numpy as np\n",
        "import matplotlib.pyplot as plt\n",
        "\n",
        "# Given values\n",
        "A1 = np.array([[0.05], [0.10]])\n",
        "W2 = np.array([[0.15, 0.20], [0.25, 0.30]])\n",
        "W3 = np.array([[0.40, 0.45], [0.50, 0.55]])\n",
        "b2 = np.array([[0.35], [0.35]])\n",
        "b3 = np.array([[0.60], [0.60]])\n",
        "\n",
        "# Given R vector\n",
        "R = np.array([[0.01], [0.99]])\n",
        "\n",
        "# Learning rate\n",
        "alpha = 0.5\n",
        "\n",
        "print(\"Initialization completed.\")"
      ],
      "metadata": {
        "colab": {
          "base_uri": "https://localhost:8080/"
        },
        "id": "H5lLskvAjSTo",
        "outputId": "aaa37b7e-16e1-4af5-cc02-a731d4bd0281"
      },
      "execution_count": 25,
      "outputs": [
        {
          "output_type": "stream",
          "name": "stdout",
          "text": [
            "Initialization completed.\n"
          ]
        }
      ]
    },
    {
      "cell_type": "markdown",
      "source": [
        "Sigmoid Functions"
      ],
      "metadata": {
        "id": "3M8V7mX3jU7_"
      }
    },
    {
      "cell_type": "code",
      "source": [
        "# Sigmoid activation function and its derivative\n",
        "def sigmoid(x):\n",
        "    return 1 / (1 + np.exp(-x))\n",
        "\n",
        "def sigmoid_derivative(x):\n",
        "    return sigmoid(x) * (1 - sigmoid(x))\n",
        "\n",
        "print(\"Sigmoid functions are defined.\")"
      ],
      "metadata": {
        "colab": {
          "base_uri": "https://localhost:8080/"
        },
        "id": "b0gZYsehjXsX",
        "outputId": "216c9887-14f0-45c3-91df-f582c33d58c9"
      },
      "execution_count": 26,
      "outputs": [
        {
          "output_type": "stream",
          "name": "stdout",
          "text": [
            "Sigmoid functions are defined.\n"
          ]
        }
      ]
    },
    {
      "cell_type": "markdown",
      "source": [
        "Initialize Errors Array"
      ],
      "metadata": {
        "id": "elLu6Jbwjbye"
      }
    },
    {
      "cell_type": "code",
      "source": [
        "# Number of epochs\n",
        "epochs = 2\n",
        "\n",
        "# Initialize an array to store total errors\n",
        "errors = np.zeros(epochs)\n",
        "\n",
        "print(f\"Total epochs set to {epochs}. Errors array initialized.\")"
      ],
      "metadata": {
        "colab": {
          "base_uri": "https://localhost:8080/"
        },
        "id": "M_UP8YYVjcZH",
        "outputId": "749f1554-7794-47f6-c02e-7440c4af6107"
      },
      "execution_count": 27,
      "outputs": [
        {
          "output_type": "stream",
          "name": "stdout",
          "text": [
            "Total epochs set to 2. Errors array initialized.\n"
          ]
        }
      ]
    },
    {
      "cell_type": "markdown",
      "source": [
        "Epoch Loop Start - Forward Pass"
      ],
      "metadata": {
        "id": "MLNYCOZIjfBP"
      }
    },
    {
      "cell_type": "code",
      "source": [
        "# Loop through epochs\n",
        "for epoch in range(epochs):\n",
        "    # Forward pass calculations\n",
        "    Z2 = np.dot(W2, A1) + b2\n",
        "    A2 = sigmoid(Z2)\n",
        "\n",
        "    Z3 = np.dot(W3, A2) + b3\n",
        "    A3 = sigmoid(Z3)\n",
        "\n",
        "    # Print intermediate values after forward pass\n",
        "    print(f\"Epoch {epoch + 1}:\")\n",
        "    print(\"Z2:\", Z2)\n",
        "    print(\"A2:\", A2)\n",
        "    print(\"Z3:\", Z3)\n",
        "    print(\"A3:\", A3)\n",
        "    print(\"-\" * 40)"
      ],
      "metadata": {
        "colab": {
          "base_uri": "https://localhost:8080/"
        },
        "id": "Iu3aMKbejhi3",
        "outputId": "fbe94b34-26f4-4909-8169-e29b53a2183f"
      },
      "execution_count": 28,
      "outputs": [
        {
          "output_type": "stream",
          "name": "stdout",
          "text": [
            "Epoch 1:\n",
            "Z2: [[0.3775]\n",
            " [0.3925]]\n",
            "A2: [[0.59326999]\n",
            " [0.59688438]]\n",
            "Z3: [[1.10590597]\n",
            " [1.2249214 ]]\n",
            "A3: [[0.75136507]\n",
            " [0.77292847]]\n",
            "----------------------------------------\n",
            "Epoch 2:\n",
            "Z2: [[0.3775]\n",
            " [0.3925]]\n",
            "A2: [[0.59326999]\n",
            " [0.59688438]]\n",
            "Z3: [[1.10590597]\n",
            " [1.2249214 ]]\n",
            "A3: [[0.75136507]\n",
            " [0.77292847]]\n",
            "----------------------------------------\n"
          ]
        }
      ]
    },
    {
      "cell_type": "markdown",
      "source": [
        "Backpropagation - Calculate Deltas"
      ],
      "metadata": {
        "id": "19Bf9FPCjl_G"
      }
    },
    {
      "cell_type": "code",
      "source": [
        "    # Calculate Deltas\n",
        "    D3 = (A3 - R) * sigmoid_derivative(Z3)\n",
        "    D2 = np.dot(W3.T, D3) * sigmoid_derivative(Z2)\n",
        "\n",
        "    # Print Deltas for debugging\n",
        "    print(\"D3:\", D3)\n",
        "    print(\"D2:\", D2)\n",
        "    print(\"-\" * 40)"
      ],
      "metadata": {
        "colab": {
          "base_uri": "https://localhost:8080/"
        },
        "id": "I_goFyTgjmn3",
        "outputId": "f727d3a7-2217-4a7c-fbb8-14a0dc9cd958"
      },
      "execution_count": 29,
      "outputs": [
        {
          "output_type": "stream",
          "name": "stdout",
          "text": [
            "D3: [[ 0.13849856]\n",
            " [-0.03809824]]\n",
            "D2: [[0.00877135]\n",
            " [0.00995425]]\n",
            "----------------------------------------\n"
          ]
        }
      ]
    },
    {
      "cell_type": "markdown",
      "source": [
        "Gradient Calculation and Update"
      ],
      "metadata": {
        "id": "t1QbgFbJjpIO"
      }
    },
    {
      "cell_type": "code",
      "source": [
        "    # Calculate gradients\n",
        "    grad_W3 = np.dot(D3, A2.T)\n",
        "    grad_b3 = D3\n",
        "    grad_W2 = np.dot(D2, A1.T)\n",
        "    grad_b2 = D2\n",
        "\n",
        "    # Print gradients for debugging\n",
        "    print(\"grad_W3:\", grad_W3)\n",
        "    print(\"grad_b3:\", grad_b3)\n",
        "    print(\"grad_W2:\", grad_W2)\n",
        "    print(\"grad_b2:\", grad_b2)\n",
        "    print(\"-\" * 40)\n",
        "\n",
        "    # Update weights and biases\n",
        "    W2 = W2 - alpha * grad_W2\n",
        "    b2 = b2 - alpha * grad_b2\n",
        "\n",
        "    W3 = W3 - alpha * grad_W3\n",
        "    b3 = b3 - alpha * grad_b3"
      ],
      "metadata": {
        "colab": {
          "base_uri": "https://localhost:8080/"
        },
        "id": "cZI_GfkOjrs3",
        "outputId": "152cc89a-af28-4f78-8246-e660cdc3c498"
      },
      "execution_count": 30,
      "outputs": [
        {
          "output_type": "stream",
          "name": "stdout",
          "text": [
            "grad_W3: [[ 0.08216704  0.08266763]\n",
            " [-0.02260254 -0.02274024]]\n",
            "grad_b3: [[ 0.13849856]\n",
            " [-0.03809824]]\n",
            "grad_W2: [[0.00043857 0.00087714]\n",
            " [0.00049771 0.00099543]]\n",
            "grad_b2: [[0.00877135]\n",
            " [0.00995425]]\n",
            "----------------------------------------\n"
          ]
        }
      ]
    },
    {
      "cell_type": "markdown",
      "source": [
        "Error Calculation and Storage"
      ],
      "metadata": {
        "id": "vRl0b50KjtiH"
      }
    },
    {
      "cell_type": "code",
      "source": [
        "    # Calculate total error and store in array\n",
        "    total_error = np.sum((A3 - R) ** 2) / 2\n",
        "    errors[epoch] = total_error\n",
        "\n",
        "    # Print the error for this epoch\n",
        "    print(\"Total Error:\", total_error)\n",
        "    print(\"-\" * 40)"
      ],
      "metadata": {
        "colab": {
          "base_uri": "https://localhost:8080/"
        },
        "id": "KSh5GteGjxB-",
        "outputId": "f47cd3b0-80aa-4bae-89cb-fa16d06c9532"
      },
      "execution_count": 31,
      "outputs": [
        {
          "output_type": "stream",
          "name": "stdout",
          "text": [
            "Total Error: 0.2983711087600027\n",
            "----------------------------------------\n"
          ]
        }
      ]
    },
    {
      "cell_type": "markdown",
      "source": [
        "Plot the Total Error"
      ],
      "metadata": {
        "id": "zzEvCijdj1w-"
      }
    },
    {
      "cell_type": "code",
      "source": [
        "# Plot the graph of total errors\n",
        "plt.figure()\n",
        "plt.plot(range(1, epochs + 1), errors, '-o')\n",
        "plt.xlabel('Epochs')\n",
        "plt.ylabel('Total Error')\n",
        "plt.title('Total Error vs. Epochs')\n",
        "plt.grid(True)\n",
        "plt.show()\n",
        "\n",
        "print(\"Plot displayed.\")"
      ],
      "metadata": {
        "colab": {
          "base_uri": "https://localhost:8080/",
          "height": 489
        },
        "id": "REJBWwa2j2me",
        "outputId": "6fcdb608-89dd-4c65-fca2-47ab842507c2"
      },
      "execution_count": 32,
      "outputs": [
        {
          "output_type": "display_data",
          "data": {
            "text/plain": [
              "<Figure size 640x480 with 1 Axes>"
            ],
            "image/png": "[encoded data removed]"
          },
          "metadata": {}
        },
        {
          "output_type": "stream",
          "name": "stdout",
          "text": [
            "Plot displayed.\n"
          ]
        }
      ]
    }
  ]
}